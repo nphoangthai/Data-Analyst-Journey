{
 "cells": [
  {
   "cell_type": "markdown",
   "id": "eaf7319e",
   "metadata": {},
   "source": [
    "# COVID-19 Small Dataset"
   ]
  },
  {
   "cell_type": "markdown",
   "id": "12381b19",
   "metadata": {},
   "source": [
    "------------------------------------------------------------------------------------------------------------------------------------------------------------------------"
   ]
  },
  {
   "cell_type": "code",
   "execution_count": 2,
   "id": "5063b181",
   "metadata": {},
   "outputs": [],
   "source": [
    "import pandas as pd"
   ]
  },
  {
   "cell_type": "code",
   "execution_count": 4,
   "id": "671651b1",
   "metadata": {},
   "outputs": [],
   "source": [
    "data = pd.read_csv('./Data/4. covid_19_data.csv')"
   ]
  },
  {
   "cell_type": "code",
   "execution_count": 5,
   "id": "e3d06624",
   "metadata": {},
   "outputs": [
    {
     "data": {
      "text/html": [
       "<div>\n",
       "<style scoped>\n",
       "    .dataframe tbody tr th:only-of-type {\n",
       "        vertical-align: middle;\n",
       "    }\n",
       "\n",
       "    .dataframe tbody tr th {\n",
       "        vertical-align: top;\n",
       "    }\n",
       "\n",
       "    .dataframe thead th {\n",
       "        text-align: right;\n",
       "    }\n",
       "</style>\n",
       "<table border=\"1\" class=\"dataframe\">\n",
       "  <thead>\n",
       "    <tr style=\"text-align: right;\">\n",
       "      <th></th>\n",
       "      <th>Date</th>\n",
       "      <th>State</th>\n",
       "      <th>Region</th>\n",
       "      <th>Confirmed</th>\n",
       "      <th>Deaths</th>\n",
       "      <th>Recovered</th>\n",
       "    </tr>\n",
       "  </thead>\n",
       "  <tbody>\n",
       "    <tr>\n",
       "      <th>0</th>\n",
       "      <td>4/29/2020</td>\n",
       "      <td>NaN</td>\n",
       "      <td>Afghanistan</td>\n",
       "      <td>1939</td>\n",
       "      <td>60</td>\n",
       "      <td>252</td>\n",
       "    </tr>\n",
       "    <tr>\n",
       "      <th>1</th>\n",
       "      <td>4/29/2020</td>\n",
       "      <td>NaN</td>\n",
       "      <td>Albania</td>\n",
       "      <td>766</td>\n",
       "      <td>30</td>\n",
       "      <td>455</td>\n",
       "    </tr>\n",
       "  </tbody>\n",
       "</table>\n",
       "</div>"
      ],
      "text/plain": [
       "        Date State       Region  Confirmed  Deaths  Recovered\n",
       "0  4/29/2020   NaN  Afghanistan       1939      60        252\n",
       "1  4/29/2020   NaN      Albania        766      30        455"
      ]
     },
     "execution_count": 5,
     "metadata": {},
     "output_type": "execute_result"
    }
   ],
   "source": [
    "data.head(2)"
   ]
  },
  {
   "cell_type": "markdown",
   "id": "bea079d3",
   "metadata": {},
   "source": [
    "------------------------------------------------------------------------------------------------------------------------------------------------------------------------------------------------"
   ]
  },
  {
   "cell_type": "markdown",
   "id": "7f019c90",
   "metadata": {},
   "source": [
    "# Questions"
   ]
  },
  {
   "cell_type": "markdown",
   "id": "45235401",
   "metadata": {},
   "source": [
    "## Q) 1. Show the number of Confirmed, Deaths and Recovered cases in each Region"
   ]
  },
  {
   "cell_type": "code",
   "execution_count": 6,
   "id": "947e5643",
   "metadata": {},
   "outputs": [
    {
     "data": {
      "text/html": [
       "<div>\n",
       "<style scoped>\n",
       "    .dataframe tbody tr th:only-of-type {\n",
       "        vertical-align: middle;\n",
       "    }\n",
       "\n",
       "    .dataframe tbody tr th {\n",
       "        vertical-align: top;\n",
       "    }\n",
       "\n",
       "    .dataframe thead th {\n",
       "        text-align: right;\n",
       "    }\n",
       "</style>\n",
       "<table border=\"1\" class=\"dataframe\">\n",
       "  <thead>\n",
       "    <tr style=\"text-align: right;\">\n",
       "      <th></th>\n",
       "      <th>Confirmed</th>\n",
       "      <th>Deaths</th>\n",
       "      <th>Recovered</th>\n",
       "    </tr>\n",
       "    <tr>\n",
       "      <th>Region</th>\n",
       "      <th></th>\n",
       "      <th></th>\n",
       "      <th></th>\n",
       "    </tr>\n",
       "  </thead>\n",
       "  <tbody>\n",
       "    <tr>\n",
       "      <th>Afghanistan</th>\n",
       "      <td>1939</td>\n",
       "      <td>60</td>\n",
       "      <td>252</td>\n",
       "    </tr>\n",
       "    <tr>\n",
       "      <th>Albania</th>\n",
       "      <td>766</td>\n",
       "      <td>30</td>\n",
       "      <td>455</td>\n",
       "    </tr>\n",
       "    <tr>\n",
       "      <th>Algeria</th>\n",
       "      <td>3848</td>\n",
       "      <td>444</td>\n",
       "      <td>1702</td>\n",
       "    </tr>\n",
       "    <tr>\n",
       "      <th>Andorra</th>\n",
       "      <td>743</td>\n",
       "      <td>42</td>\n",
       "      <td>423</td>\n",
       "    </tr>\n",
       "    <tr>\n",
       "      <th>Angola</th>\n",
       "      <td>27</td>\n",
       "      <td>2</td>\n",
       "      <td>7</td>\n",
       "    </tr>\n",
       "    <tr>\n",
       "      <th>...</th>\n",
       "      <td>...</td>\n",
       "      <td>...</td>\n",
       "      <td>...</td>\n",
       "    </tr>\n",
       "    <tr>\n",
       "      <th>West Bank and Gaza</th>\n",
       "      <td>344</td>\n",
       "      <td>2</td>\n",
       "      <td>71</td>\n",
       "    </tr>\n",
       "    <tr>\n",
       "      <th>Western Sahara</th>\n",
       "      <td>6</td>\n",
       "      <td>0</td>\n",
       "      <td>5</td>\n",
       "    </tr>\n",
       "    <tr>\n",
       "      <th>Yemen</th>\n",
       "      <td>6</td>\n",
       "      <td>0</td>\n",
       "      <td>1</td>\n",
       "    </tr>\n",
       "    <tr>\n",
       "      <th>Zambia</th>\n",
       "      <td>97</td>\n",
       "      <td>3</td>\n",
       "      <td>54</td>\n",
       "    </tr>\n",
       "    <tr>\n",
       "      <th>Zimbabwe</th>\n",
       "      <td>32</td>\n",
       "      <td>4</td>\n",
       "      <td>5</td>\n",
       "    </tr>\n",
       "  </tbody>\n",
       "</table>\n",
       "<p>187 rows × 3 columns</p>\n",
       "</div>"
      ],
      "text/plain": [
       "                    Confirmed  Deaths  Recovered\n",
       "Region                                          \n",
       "Afghanistan              1939      60        252\n",
       "Albania                   766      30        455\n",
       "Algeria                  3848     444       1702\n",
       "Andorra                   743      42        423\n",
       "Angola                     27       2          7\n",
       "...                       ...     ...        ...\n",
       "West Bank and Gaza        344       2         71\n",
       "Western Sahara              6       0          5\n",
       "Yemen                       6       0          1\n",
       "Zambia                     97       3         54\n",
       "Zimbabwe                   32       4          5\n",
       "\n",
       "[187 rows x 3 columns]"
      ]
     },
     "execution_count": 6,
     "metadata": {},
     "output_type": "execute_result"
    }
   ],
   "source": [
    "data.groupby('Region').sum()"
   ]
  },
  {
   "cell_type": "code",
   "execution_count": 9,
   "id": "8ef4ac7f",
   "metadata": {},
   "outputs": [],
   "source": [
    "# data.groupby('Region')['Confirmed'].sum().sort_values(ascending = False).head(10)"
   ]
  },
  {
   "cell_type": "markdown",
   "id": "82eaf40b",
   "metadata": {},
   "source": [
    "## Q) 2. Remove all the records where Confirmed Cases is Less Than 10"
   ]
  },
  {
   "cell_type": "code",
   "execution_count": 12,
   "id": "50a23fe0",
   "metadata": {},
   "outputs": [],
   "source": [
    "# filter\n",
    "condition = data['Confirmed'] < 10\n",
    "\n",
    "data = data[~condition]"
   ]
  },
  {
   "cell_type": "code",
   "execution_count": 13,
   "id": "f66e8684",
   "metadata": {},
   "outputs": [
    {
     "data": {
      "text/html": [
       "<div>\n",
       "<style scoped>\n",
       "    .dataframe tbody tr th:only-of-type {\n",
       "        vertical-align: middle;\n",
       "    }\n",
       "\n",
       "    .dataframe tbody tr th {\n",
       "        vertical-align: top;\n",
       "    }\n",
       "\n",
       "    .dataframe thead th {\n",
       "        text-align: right;\n",
       "    }\n",
       "</style>\n",
       "<table border=\"1\" class=\"dataframe\">\n",
       "  <thead>\n",
       "    <tr style=\"text-align: right;\">\n",
       "      <th></th>\n",
       "      <th>Date</th>\n",
       "      <th>State</th>\n",
       "      <th>Region</th>\n",
       "      <th>Confirmed</th>\n",
       "      <th>Deaths</th>\n",
       "      <th>Recovered</th>\n",
       "    </tr>\n",
       "  </thead>\n",
       "  <tbody>\n",
       "    <tr>\n",
       "      <th>0</th>\n",
       "      <td>4/29/2020</td>\n",
       "      <td>NaN</td>\n",
       "      <td>Afghanistan</td>\n",
       "      <td>1939</td>\n",
       "      <td>60</td>\n",
       "      <td>252</td>\n",
       "    </tr>\n",
       "    <tr>\n",
       "      <th>1</th>\n",
       "      <td>4/29/2020</td>\n",
       "      <td>NaN</td>\n",
       "      <td>Albania</td>\n",
       "      <td>766</td>\n",
       "      <td>30</td>\n",
       "      <td>455</td>\n",
       "    </tr>\n",
       "    <tr>\n",
       "      <th>2</th>\n",
       "      <td>4/29/2020</td>\n",
       "      <td>NaN</td>\n",
       "      <td>Algeria</td>\n",
       "      <td>3848</td>\n",
       "      <td>444</td>\n",
       "      <td>1702</td>\n",
       "    </tr>\n",
       "    <tr>\n",
       "      <th>3</th>\n",
       "      <td>4/29/2020</td>\n",
       "      <td>NaN</td>\n",
       "      <td>Andorra</td>\n",
       "      <td>743</td>\n",
       "      <td>42</td>\n",
       "      <td>423</td>\n",
       "    </tr>\n",
       "    <tr>\n",
       "      <th>4</th>\n",
       "      <td>4/29/2020</td>\n",
       "      <td>NaN</td>\n",
       "      <td>Angola</td>\n",
       "      <td>27</td>\n",
       "      <td>2</td>\n",
       "      <td>7</td>\n",
       "    </tr>\n",
       "  </tbody>\n",
       "</table>\n",
       "</div>"
      ],
      "text/plain": [
       "        Date State       Region  Confirmed  Deaths  Recovered\n",
       "0  4/29/2020   NaN  Afghanistan       1939      60        252\n",
       "1  4/29/2020   NaN      Albania        766      30        455\n",
       "2  4/29/2020   NaN      Algeria       3848     444       1702\n",
       "3  4/29/2020   NaN      Andorra        743      42        423\n",
       "4  4/29/2020   NaN       Angola         27       2          7"
      ]
     },
     "execution_count": 13,
     "metadata": {},
     "output_type": "execute_result"
    }
   ],
   "source": [
    "data.head(5)"
   ]
  },
  {
   "cell_type": "markdown",
   "id": "372f1e3b",
   "metadata": {},
   "source": [
    "## Q) 3. In which Region, maximum number of Confirmed cases were recorded?"
   ]
  },
  {
   "cell_type": "code",
   "execution_count": 16,
   "id": "348ca541",
   "metadata": {},
   "outputs": [
    {
     "data": {
      "text/plain": [
       "265    US\n",
       "Name: Region, dtype: object"
      ]
     },
     "execution_count": 16,
     "metadata": {},
     "output_type": "execute_result"
    }
   ],
   "source": [
    "# filter\n",
    "condition = data['Confirmed'] == data['Confirmed'].max()\n",
    "\n",
    "data[condition]['Region']"
   ]
  },
  {
   "cell_type": "code",
   "execution_count": 18,
   "id": "cb2fd316",
   "metadata": {},
   "outputs": [
    {
     "data": {
      "text/plain": [
       "Region\n",
       "US        1039909\n",
       "Spain      236899\n",
       "Italy      203591\n",
       "France     166536\n",
       "UK         166432\n",
       "Name: Confirmed, dtype: int64"
      ]
     },
     "execution_count": 18,
     "metadata": {},
     "output_type": "execute_result"
    }
   ],
   "source": [
    "data.groupby('Region')['Confirmed'].sum().sort_values(ascending = False).head(5)"
   ]
  },
  {
   "cell_type": "markdown",
   "id": "5e2ea99e",
   "metadata": {},
   "source": [
    "## Q) 4. In which Region, mimum number of Deaths cases were recorded?"
   ]
  },
  {
   "cell_type": "code",
   "execution_count": 22,
   "id": "45a39451",
   "metadata": {},
   "outputs": [
    {
     "data": {
      "text/plain": [
       "29                             Cambodia\n",
       "31             Central African Republic\n",
       "45                             Dominica\n",
       "51                              Eritrea\n",
       "55                                 Fiji\n",
       "64                              Grenada\n",
       "70                             Holy See\n",
       "90                                 Laos\n",
       "99                           Madagascar\n",
       "110                            Mongolia\n",
       "113                          Mozambique\n",
       "114                             Namibia\n",
       "115                               Nepal\n",
       "135                              Rwanda\n",
       "136               Saint Kitts and Nevis\n",
       "137                         Saint Lucia\n",
       "138    Saint Vincent and the Grenadines\n",
       "144                          Seychelles\n",
       "152                         South Sudan\n",
       "163                         Timor-Leste\n",
       "169                              Uganda\n",
       "175                             Vietnam\n",
       "204                                  US\n",
       "206                                  UK\n",
       "207                             Denmark\n",
       "210                              France\n",
       "214                                  UK\n",
       "215                              Canada\n",
       "217                             Denmark\n",
       "237                      Mainland China\n",
       "244                               Macau\n",
       "259                              Canada\n",
       "260                              France\n",
       "267                      Mainland China\n",
       "271                           Australia\n",
       "279                              Canada\n",
       "281                      Mainland China\n",
       "286                              France\n",
       "294                      Mainland China\n",
       "318                              Canada\n",
       "Name: Region, dtype: object"
      ]
     },
     "execution_count": 22,
     "metadata": {},
     "output_type": "execute_result"
    }
   ],
   "source": [
    "# filter\n",
    "condition = data['Deaths'] == data['Deaths'].min()\n",
    "\n",
    "data[condition]['Region']"
   ]
  },
  {
   "cell_type": "code",
   "execution_count": 25,
   "id": "eebf0b35",
   "metadata": {},
   "outputs": [
    {
     "data": {
      "text/plain": [
       "Region\n",
       "Cambodia                        0\n",
       "Seychelles                      0\n",
       "Saint Lucia                     0\n",
       "Central African Republic        0\n",
       "Saint Kitts and Nevis           0\n",
       "                            ...  \n",
       "France                      24121\n",
       "Spain                       24275\n",
       "UK                          26165\n",
       "Italy                       27682\n",
       "US                          60967\n",
       "Name: Deaths, Length: 180, dtype: int64"
      ]
     },
     "execution_count": 25,
     "metadata": {},
     "output_type": "execute_result"
    }
   ],
   "source": [
    "data.groupby('Region')['Deaths'].sum().sort_values(ascending = True)"
   ]
  },
  {
   "cell_type": "markdown",
   "id": "970c2968",
   "metadata": {},
   "source": [
    "## Q) 5. How many Confirmed, Deaths & Recovered cases were reported from India till 29 April 2020"
   ]
  },
  {
   "cell_type": "code",
   "execution_count": 26,
   "id": "312ac85b",
   "metadata": {},
   "outputs": [
    {
     "data": {
      "text/html": [
       "<div>\n",
       "<style scoped>\n",
       "    .dataframe tbody tr th:only-of-type {\n",
       "        vertical-align: middle;\n",
       "    }\n",
       "\n",
       "    .dataframe tbody tr th {\n",
       "        vertical-align: top;\n",
       "    }\n",
       "\n",
       "    .dataframe thead th {\n",
       "        text-align: right;\n",
       "    }\n",
       "</style>\n",
       "<table border=\"1\" class=\"dataframe\">\n",
       "  <thead>\n",
       "    <tr style=\"text-align: right;\">\n",
       "      <th></th>\n",
       "      <th>Date</th>\n",
       "      <th>State</th>\n",
       "      <th>Region</th>\n",
       "      <th>Confirmed</th>\n",
       "      <th>Deaths</th>\n",
       "      <th>Recovered</th>\n",
       "    </tr>\n",
       "  </thead>\n",
       "  <tbody>\n",
       "    <tr>\n",
       "      <th>74</th>\n",
       "      <td>4/29/2020</td>\n",
       "      <td>NaN</td>\n",
       "      <td>India</td>\n",
       "      <td>33062</td>\n",
       "      <td>1079</td>\n",
       "      <td>8437</td>\n",
       "    </tr>\n",
       "  </tbody>\n",
       "</table>\n",
       "</div>"
      ],
      "text/plain": [
       "         Date State Region  Confirmed  Deaths  Recovered\n",
       "74  4/29/2020   NaN  India      33062    1079       8437"
      ]
     },
     "execution_count": 26,
     "metadata": {},
     "output_type": "execute_result"
    }
   ],
   "source": [
    "condition = data['Region'] == 'India'\n",
    "\n",
    "data[condition]"
   ]
  },
  {
   "cell_type": "markdown",
   "id": "e80ce44c",
   "metadata": {},
   "source": [
    "## Q) 6-A. Sort the entire data wrt No. of Confirmed cases in ascending order."
   ]
  },
  {
   "cell_type": "code",
   "execution_count": 27,
   "id": "de0ebc4b",
   "metadata": {},
   "outputs": [
    {
     "data": {
      "text/html": [
       "<div>\n",
       "<style scoped>\n",
       "    .dataframe tbody tr th:only-of-type {\n",
       "        vertical-align: middle;\n",
       "    }\n",
       "\n",
       "    .dataframe tbody tr th {\n",
       "        vertical-align: top;\n",
       "    }\n",
       "\n",
       "    .dataframe thead th {\n",
       "        text-align: right;\n",
       "    }\n",
       "</style>\n",
       "<table border=\"1\" class=\"dataframe\">\n",
       "  <thead>\n",
       "    <tr style=\"text-align: right;\">\n",
       "      <th></th>\n",
       "      <th>Date</th>\n",
       "      <th>State</th>\n",
       "      <th>Region</th>\n",
       "      <th>Confirmed</th>\n",
       "      <th>Deaths</th>\n",
       "      <th>Recovered</th>\n",
       "    </tr>\n",
       "  </thead>\n",
       "  <tbody>\n",
       "    <tr>\n",
       "      <th>156</th>\n",
       "      <td>4/29/2020</td>\n",
       "      <td>NaN</td>\n",
       "      <td>Suriname</td>\n",
       "      <td>10</td>\n",
       "      <td>1</td>\n",
       "      <td>8</td>\n",
       "    </tr>\n",
       "    <tr>\n",
       "      <th>70</th>\n",
       "      <td>4/29/2020</td>\n",
       "      <td>NaN</td>\n",
       "      <td>Holy See</td>\n",
       "      <td>10</td>\n",
       "      <td>0</td>\n",
       "      <td>2</td>\n",
       "    </tr>\n",
       "    <tr>\n",
       "      <th>59</th>\n",
       "      <td>4/29/2020</td>\n",
       "      <td>NaN</td>\n",
       "      <td>Gambia</td>\n",
       "      <td>10</td>\n",
       "      <td>1</td>\n",
       "      <td>8</td>\n",
       "    </tr>\n",
       "    <tr>\n",
       "      <th>318</th>\n",
       "      <td>4/29/2020</td>\n",
       "      <td>Yukon</td>\n",
       "      <td>Canada</td>\n",
       "      <td>11</td>\n",
       "      <td>0</td>\n",
       "      <td>0</td>\n",
       "    </tr>\n",
       "    <tr>\n",
       "      <th>217</th>\n",
       "      <td>4/29/2020</td>\n",
       "      <td>Greenland</td>\n",
       "      <td>Denmark</td>\n",
       "      <td>11</td>\n",
       "      <td>0</td>\n",
       "      <td>11</td>\n",
       "    </tr>\n",
       "    <tr>\n",
       "      <th>...</th>\n",
       "      <td>...</td>\n",
       "      <td>...</td>\n",
       "      <td>...</td>\n",
       "      <td>...</td>\n",
       "      <td>...</td>\n",
       "      <td>...</td>\n",
       "    </tr>\n",
       "    <tr>\n",
       "      <th>57</th>\n",
       "      <td>4/29/2020</td>\n",
       "      <td>NaN</td>\n",
       "      <td>France</td>\n",
       "      <td>165093</td>\n",
       "      <td>24087</td>\n",
       "      <td>48228</td>\n",
       "    </tr>\n",
       "    <tr>\n",
       "      <th>168</th>\n",
       "      <td>4/29/2020</td>\n",
       "      <td>NaN</td>\n",
       "      <td>UK</td>\n",
       "      <td>165221</td>\n",
       "      <td>26097</td>\n",
       "      <td>0</td>\n",
       "    </tr>\n",
       "    <tr>\n",
       "      <th>80</th>\n",
       "      <td>4/29/2020</td>\n",
       "      <td>NaN</td>\n",
       "      <td>Italy</td>\n",
       "      <td>203591</td>\n",
       "      <td>27682</td>\n",
       "      <td>71252</td>\n",
       "    </tr>\n",
       "    <tr>\n",
       "      <th>153</th>\n",
       "      <td>4/29/2020</td>\n",
       "      <td>NaN</td>\n",
       "      <td>Spain</td>\n",
       "      <td>236899</td>\n",
       "      <td>24275</td>\n",
       "      <td>132929</td>\n",
       "    </tr>\n",
       "    <tr>\n",
       "      <th>265</th>\n",
       "      <td>4/29/2020</td>\n",
       "      <td>New York</td>\n",
       "      <td>US</td>\n",
       "      <td>299691</td>\n",
       "      <td>23477</td>\n",
       "      <td>0</td>\n",
       "    </tr>\n",
       "  </tbody>\n",
       "</table>\n",
       "<p>304 rows × 6 columns</p>\n",
       "</div>"
      ],
      "text/plain": [
       "          Date      State    Region  Confirmed  Deaths  Recovered\n",
       "156  4/29/2020        NaN  Suriname         10       1          8\n",
       "70   4/29/2020        NaN  Holy See         10       0          2\n",
       "59   4/29/2020        NaN    Gambia         10       1          8\n",
       "318  4/29/2020      Yukon    Canada         11       0          0\n",
       "217  4/29/2020  Greenland   Denmark         11       0         11\n",
       "..         ...        ...       ...        ...     ...        ...\n",
       "57   4/29/2020        NaN    France     165093   24087      48228\n",
       "168  4/29/2020        NaN        UK     165221   26097          0\n",
       "80   4/29/2020        NaN     Italy     203591   27682      71252\n",
       "153  4/29/2020        NaN     Spain     236899   24275     132929\n",
       "265  4/29/2020   New York        US     299691   23477          0\n",
       "\n",
       "[304 rows x 6 columns]"
      ]
     },
     "execution_count": 27,
     "metadata": {},
     "output_type": "execute_result"
    }
   ],
   "source": [
    "data.sort_values(by = 'Confirmed', ascending = True)"
   ]
  },
  {
   "cell_type": "markdown",
   "id": "80828ef1",
   "metadata": {},
   "source": [
    "## Q) 6-B. Sort the entire data wrt No. of Recovered cases in descending order."
   ]
  },
  {
   "cell_type": "code",
   "execution_count": 28,
   "id": "cffaacde",
   "metadata": {},
   "outputs": [
    {
     "data": {
      "text/html": [
       "<div>\n",
       "<style scoped>\n",
       "    .dataframe tbody tr th:only-of-type {\n",
       "        vertical-align: middle;\n",
       "    }\n",
       "\n",
       "    .dataframe tbody tr th {\n",
       "        vertical-align: top;\n",
       "    }\n",
       "\n",
       "    .dataframe thead th {\n",
       "        text-align: right;\n",
       "    }\n",
       "</style>\n",
       "<table border=\"1\" class=\"dataframe\">\n",
       "  <thead>\n",
       "    <tr style=\"text-align: right;\">\n",
       "      <th></th>\n",
       "      <th>Date</th>\n",
       "      <th>State</th>\n",
       "      <th>Region</th>\n",
       "      <th>Confirmed</th>\n",
       "      <th>Deaths</th>\n",
       "      <th>Recovered</th>\n",
       "    </tr>\n",
       "  </thead>\n",
       "  <tbody>\n",
       "    <tr>\n",
       "      <th>153</th>\n",
       "      <td>4/29/2020</td>\n",
       "      <td>NaN</td>\n",
       "      <td>Spain</td>\n",
       "      <td>236899</td>\n",
       "      <td>24275</td>\n",
       "      <td>132929</td>\n",
       "    </tr>\n",
       "    <tr>\n",
       "      <th>61</th>\n",
       "      <td>4/29/2020</td>\n",
       "      <td>NaN</td>\n",
       "      <td>Germany</td>\n",
       "      <td>161539</td>\n",
       "      <td>6467</td>\n",
       "      <td>120400</td>\n",
       "    </tr>\n",
       "    <tr>\n",
       "      <th>76</th>\n",
       "      <td>4/29/2020</td>\n",
       "      <td>NaN</td>\n",
       "      <td>Iran</td>\n",
       "      <td>93657</td>\n",
       "      <td>5957</td>\n",
       "      <td>73791</td>\n",
       "    </tr>\n",
       "    <tr>\n",
       "      <th>80</th>\n",
       "      <td>4/29/2020</td>\n",
       "      <td>NaN</td>\n",
       "      <td>Italy</td>\n",
       "      <td>203591</td>\n",
       "      <td>27682</td>\n",
       "      <td>71252</td>\n",
       "    </tr>\n",
       "    <tr>\n",
       "      <th>229</th>\n",
       "      <td>4/29/2020</td>\n",
       "      <td>Hubei</td>\n",
       "      <td>Mainland China</td>\n",
       "      <td>68128</td>\n",
       "      <td>4512</td>\n",
       "      <td>63616</td>\n",
       "    </tr>\n",
       "    <tr>\n",
       "      <th>...</th>\n",
       "      <td>...</td>\n",
       "      <td>...</td>\n",
       "      <td>...</td>\n",
       "      <td>...</td>\n",
       "      <td>...</td>\n",
       "      <td>...</td>\n",
       "    </tr>\n",
       "    <tr>\n",
       "      <th>258</th>\n",
       "      <td>4/29/2020</td>\n",
       "      <td>Nevada</td>\n",
       "      <td>US</td>\n",
       "      <td>4934</td>\n",
       "      <td>230</td>\n",
       "      <td>0</td>\n",
       "    </tr>\n",
       "    <tr>\n",
       "      <th>257</th>\n",
       "      <td>4/29/2020</td>\n",
       "      <td>Nebraska</td>\n",
       "      <td>US</td>\n",
       "      <td>3851</td>\n",
       "      <td>56</td>\n",
       "      <td>0</td>\n",
       "    </tr>\n",
       "    <tr>\n",
       "      <th>255</th>\n",
       "      <td>4/29/2020</td>\n",
       "      <td>Montana</td>\n",
       "      <td>US</td>\n",
       "      <td>451</td>\n",
       "      <td>16</td>\n",
       "      <td>0</td>\n",
       "    </tr>\n",
       "    <tr>\n",
       "      <th>254</th>\n",
       "      <td>4/29/2020</td>\n",
       "      <td>Missouri</td>\n",
       "      <td>US</td>\n",
       "      <td>7660</td>\n",
       "      <td>338</td>\n",
       "      <td>0</td>\n",
       "    </tr>\n",
       "    <tr>\n",
       "      <th>274</th>\n",
       "      <td>4/29/2020</td>\n",
       "      <td>Ohio</td>\n",
       "      <td>US</td>\n",
       "      <td>17303</td>\n",
       "      <td>937</td>\n",
       "      <td>0</td>\n",
       "    </tr>\n",
       "  </tbody>\n",
       "</table>\n",
       "<p>304 rows × 6 columns</p>\n",
       "</div>"
      ],
      "text/plain": [
       "          Date     State          Region  Confirmed  Deaths  Recovered\n",
       "153  4/29/2020       NaN           Spain     236899   24275     132929\n",
       "61   4/29/2020       NaN         Germany     161539    6467     120400\n",
       "76   4/29/2020       NaN            Iran      93657    5957      73791\n",
       "80   4/29/2020       NaN           Italy     203591   27682      71252\n",
       "229  4/29/2020     Hubei  Mainland China      68128    4512      63616\n",
       "..         ...       ...             ...        ...     ...        ...\n",
       "258  4/29/2020    Nevada              US       4934     230          0\n",
       "257  4/29/2020  Nebraska              US       3851      56          0\n",
       "255  4/29/2020   Montana              US        451      16          0\n",
       "254  4/29/2020  Missouri              US       7660     338          0\n",
       "274  4/29/2020      Ohio              US      17303     937          0\n",
       "\n",
       "[304 rows x 6 columns]"
      ]
     },
     "execution_count": 28,
     "metadata": {},
     "output_type": "execute_result"
    }
   ],
   "source": [
    "data.sort_values(by = 'Recovered', ascending = False)"
   ]
  },
  {
   "cell_type": "markdown",
   "id": "f6114ba8",
   "metadata": {},
   "source": [
    "--------------------------------------------------------------------------------------------------------------------------------------------------------------------------------------------------------"
   ]
  },
  {
   "cell_type": "markdown",
   "id": "9a753371",
   "metadata": {},
   "source": [
    "# The End"
   ]
  }
 ],
 "metadata": {
  "kernelspec": {
   "display_name": "Python 3 (ipykernel)",
   "language": "python",
   "name": "python3"
  },
  "language_info": {
   "codemirror_mode": {
    "name": "ipython",
    "version": 3
   },
   "file_extension": ".py",
   "mimetype": "text/x-python",
   "name": "python",
   "nbconvert_exporter": "python",
   "pygments_lexer": "ipython3",
   "version": "3.9.12"
  }
 },
 "nbformat": 4,
 "nbformat_minor": 5
}
