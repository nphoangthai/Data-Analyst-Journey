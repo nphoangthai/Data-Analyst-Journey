{
 "cells": [
  {
   "cell_type": "markdown",
   "id": "4ab0a230",
   "metadata": {},
   "source": [
    "# London Housing Data"
   ]
  },
  {
   "cell_type": "markdown",
   "id": "210c6f69",
   "metadata": {},
   "source": [
    "------------------------------------------------------------------------------------------------------------------------------------------------------------------------------------------------------------------"
   ]
  },
  {
   "cell_type": "code",
   "execution_count": 2,
   "id": "d1138ee4",
   "metadata": {},
   "outputs": [],
   "source": [
    "import pandas as pd"
   ]
  },
  {
   "cell_type": "code",
   "execution_count": 4,
   "id": "2d8877a5",
   "metadata": {},
   "outputs": [],
   "source": [
    "data = pd.read_csv('./Data/5. London Housing Data.csv')"
   ]
  },
  {
   "cell_type": "code",
   "execution_count": 5,
   "id": "6768d32e",
   "metadata": {},
   "outputs": [
    {
     "data": {
      "text/html": [
       "<div>\n",
       "<style scoped>\n",
       "    .dataframe tbody tr th:only-of-type {\n",
       "        vertical-align: middle;\n",
       "    }\n",
       "\n",
       "    .dataframe tbody tr th {\n",
       "        vertical-align: top;\n",
       "    }\n",
       "\n",
       "    .dataframe thead th {\n",
       "        text-align: right;\n",
       "    }\n",
       "</style>\n",
       "<table border=\"1\" class=\"dataframe\">\n",
       "  <thead>\n",
       "    <tr style=\"text-align: right;\">\n",
       "      <th></th>\n",
       "      <th>date</th>\n",
       "      <th>area</th>\n",
       "      <th>average_price</th>\n",
       "      <th>code</th>\n",
       "      <th>houses_sold</th>\n",
       "      <th>no_of_crimes</th>\n",
       "    </tr>\n",
       "  </thead>\n",
       "  <tbody>\n",
       "    <tr>\n",
       "      <th>0</th>\n",
       "      <td>1/1/1995</td>\n",
       "      <td>city of london</td>\n",
       "      <td>91449</td>\n",
       "      <td>E09000001</td>\n",
       "      <td>17.0</td>\n",
       "      <td>NaN</td>\n",
       "    </tr>\n",
       "    <tr>\n",
       "      <th>1</th>\n",
       "      <td>2/1/1995</td>\n",
       "      <td>city of london</td>\n",
       "      <td>82203</td>\n",
       "      <td>E09000001</td>\n",
       "      <td>7.0</td>\n",
       "      <td>NaN</td>\n",
       "    </tr>\n",
       "    <tr>\n",
       "      <th>2</th>\n",
       "      <td>3/1/1995</td>\n",
       "      <td>city of london</td>\n",
       "      <td>79121</td>\n",
       "      <td>E09000001</td>\n",
       "      <td>14.0</td>\n",
       "      <td>NaN</td>\n",
       "    </tr>\n",
       "    <tr>\n",
       "      <th>3</th>\n",
       "      <td>4/1/1995</td>\n",
       "      <td>city of london</td>\n",
       "      <td>77101</td>\n",
       "      <td>E09000001</td>\n",
       "      <td>7.0</td>\n",
       "      <td>NaN</td>\n",
       "    </tr>\n",
       "    <tr>\n",
       "      <th>4</th>\n",
       "      <td>5/1/1995</td>\n",
       "      <td>city of london</td>\n",
       "      <td>84409</td>\n",
       "      <td>E09000001</td>\n",
       "      <td>10.0</td>\n",
       "      <td>NaN</td>\n",
       "    </tr>\n",
       "    <tr>\n",
       "      <th>...</th>\n",
       "      <td>...</td>\n",
       "      <td>...</td>\n",
       "      <td>...</td>\n",
       "      <td>...</td>\n",
       "      <td>...</td>\n",
       "      <td>...</td>\n",
       "    </tr>\n",
       "    <tr>\n",
       "      <th>13544</th>\n",
       "      <td>9/1/2019</td>\n",
       "      <td>england</td>\n",
       "      <td>249942</td>\n",
       "      <td>E92000001</td>\n",
       "      <td>64605.0</td>\n",
       "      <td>NaN</td>\n",
       "    </tr>\n",
       "    <tr>\n",
       "      <th>13545</th>\n",
       "      <td>10/1/2019</td>\n",
       "      <td>england</td>\n",
       "      <td>249376</td>\n",
       "      <td>E92000001</td>\n",
       "      <td>68677.0</td>\n",
       "      <td>NaN</td>\n",
       "    </tr>\n",
       "    <tr>\n",
       "      <th>13546</th>\n",
       "      <td>11/1/2019</td>\n",
       "      <td>england</td>\n",
       "      <td>248515</td>\n",
       "      <td>E92000001</td>\n",
       "      <td>67814.0</td>\n",
       "      <td>NaN</td>\n",
       "    </tr>\n",
       "    <tr>\n",
       "      <th>13547</th>\n",
       "      <td>12/1/2019</td>\n",
       "      <td>england</td>\n",
       "      <td>250410</td>\n",
       "      <td>E92000001</td>\n",
       "      <td>NaN</td>\n",
       "      <td>NaN</td>\n",
       "    </tr>\n",
       "    <tr>\n",
       "      <th>13548</th>\n",
       "      <td>1/1/2020</td>\n",
       "      <td>england</td>\n",
       "      <td>247355</td>\n",
       "      <td>E92000001</td>\n",
       "      <td>NaN</td>\n",
       "      <td>NaN</td>\n",
       "    </tr>\n",
       "  </tbody>\n",
       "</table>\n",
       "<p>13549 rows × 6 columns</p>\n",
       "</div>"
      ],
      "text/plain": [
       "            date            area  average_price       code  houses_sold  \\\n",
       "0       1/1/1995  city of london          91449  E09000001         17.0   \n",
       "1       2/1/1995  city of london          82203  E09000001          7.0   \n",
       "2       3/1/1995  city of london          79121  E09000001         14.0   \n",
       "3       4/1/1995  city of london          77101  E09000001          7.0   \n",
       "4       5/1/1995  city of london          84409  E09000001         10.0   \n",
       "...          ...             ...            ...        ...          ...   \n",
       "13544   9/1/2019         england         249942  E92000001      64605.0   \n",
       "13545  10/1/2019         england         249376  E92000001      68677.0   \n",
       "13546  11/1/2019         england         248515  E92000001      67814.0   \n",
       "13547  12/1/2019         england         250410  E92000001          NaN   \n",
       "13548   1/1/2020         england         247355  E92000001          NaN   \n",
       "\n",
       "       no_of_crimes  \n",
       "0               NaN  \n",
       "1               NaN  \n",
       "2               NaN  \n",
       "3               NaN  \n",
       "4               NaN  \n",
       "...             ...  \n",
       "13544           NaN  \n",
       "13545           NaN  \n",
       "13546           NaN  \n",
       "13547           NaN  \n",
       "13548           NaN  \n",
       "\n",
       "[13549 rows x 6 columns]"
      ]
     },
     "execution_count": 5,
     "metadata": {},
     "output_type": "execute_result"
    }
   ],
   "source": [
    "data"
   ]
  },
  {
   "cell_type": "code",
   "execution_count": 10,
   "id": "c577f781",
   "metadata": {},
   "outputs": [
    {
     "data": {
      "text/plain": [
       "date             13549\n",
       "area             13549\n",
       "average_price    13549\n",
       "code             13549\n",
       "houses_sold      13455\n",
       "no_of_crimes      7439\n",
       "dtype: int64"
      ]
     },
     "execution_count": 10,
     "metadata": {},
     "output_type": "execute_result"
    }
   ],
   "source": [
    "data.count()"
   ]
  },
  {
   "cell_type": "code",
   "execution_count": 11,
   "id": "e3fd01d9",
   "metadata": {},
   "outputs": [
    {
     "data": {
      "text/plain": [
       "date                0\n",
       "area                0\n",
       "average_price       0\n",
       "code                0\n",
       "houses_sold        94\n",
       "no_of_crimes     6110\n",
       "dtype: int64"
      ]
     },
     "execution_count": 11,
     "metadata": {},
     "output_type": "execute_result"
    }
   ],
   "source": [
    "data.isnull().sum()"
   ]
  },
  {
   "cell_type": "markdown",
   "id": "8aac0763",
   "metadata": {},
   "source": [
    "------------------------------------------------------------------------------------------------------------------------------------------------------------------------------------------------------------------------------------"
   ]
  },
  {
   "cell_type": "markdown",
   "id": "cea56646",
   "metadata": {},
   "source": [
    "# Instructions"
   ]
  },
  {
   "cell_type": "markdown",
   "id": "a7451d64",
   "metadata": {},
   "source": [
    "## I) 1. Convert the Datatype of \"Date\" column to Datetime format"
   ]
  },
  {
   "cell_type": "code",
   "execution_count": 7,
   "id": "667dfd77",
   "metadata": {},
   "outputs": [],
   "source": [
    "data['date'] = data['date'].astype('datetime64')\n",
    "\n",
    "# data['date'] = pd.to_datetime(data['date'])"
   ]
  },
  {
   "cell_type": "markdown",
   "id": "66a77ad7",
   "metadata": {},
   "source": [
    "## I) 2-A. Add a new column \"Year\" in the dataframe, which contains years only"
   ]
  },
  {
   "cell_type": "code",
   "execution_count": 16,
   "id": "708e901d",
   "metadata": {},
   "outputs": [],
   "source": [
    "data['year'] = data['date'].apply(lambda x: x.year)\n",
    "\n",
    "# data['year'] = data['date'].dt.year"
   ]
  },
  {
   "cell_type": "markdown",
   "id": "3a733d20",
   "metadata": {},
   "source": [
    "## I) 2-B. Add a new column \"Month\" in the dataframe, which contains months only"
   ]
  },
  {
   "cell_type": "code",
   "execution_count": 17,
   "id": "4e50f255",
   "metadata": {},
   "outputs": [],
   "source": [
    "data['month'] = data['date'].apply(lambda x: x.month)\n",
    "\n",
    "# data['month'] = data['date'].dt.month\n",
    "# data.insert(1, 'month', data['date'].dt.month)"
   ]
  },
  {
   "cell_type": "markdown",
   "id": "90989d4c",
   "metadata": {},
   "source": [
    "## I) 3. Remove the columns \"Year\" and \"Month\" from the dataframe"
   ]
  },
  {
   "cell_type": "code",
   "execution_count": 19,
   "id": "c7fa0fa2",
   "metadata": {},
   "outputs": [],
   "source": [
    "data = data.drop(columns = ['year', 'month'])"
   ]
  },
  {
   "cell_type": "markdown",
   "id": "1ec835b1",
   "metadata": {},
   "source": [
    "## I) 4. Show all the records where 'No. of Crimes' is 0. And, how many such records are there?"
   ]
  },
  {
   "cell_type": "code",
   "execution_count": 21,
   "id": "298988b2",
   "metadata": {},
   "outputs": [
    {
     "data": {
      "text/html": [
       "<div>\n",
       "<style scoped>\n",
       "    .dataframe tbody tr th:only-of-type {\n",
       "        vertical-align: middle;\n",
       "    }\n",
       "\n",
       "    .dataframe tbody tr th {\n",
       "        vertical-align: top;\n",
       "    }\n",
       "\n",
       "    .dataframe thead th {\n",
       "        text-align: right;\n",
       "    }\n",
       "</style>\n",
       "<table border=\"1\" class=\"dataframe\">\n",
       "  <thead>\n",
       "    <tr style=\"text-align: right;\">\n",
       "      <th></th>\n",
       "      <th>date</th>\n",
       "      <th>area</th>\n",
       "      <th>average_price</th>\n",
       "      <th>code</th>\n",
       "      <th>houses_sold</th>\n",
       "      <th>no_of_crimes</th>\n",
       "    </tr>\n",
       "  </thead>\n",
       "  <tbody>\n",
       "    <tr>\n",
       "      <th>72</th>\n",
       "      <td>2001-01-01</td>\n",
       "      <td>city of london</td>\n",
       "      <td>284262</td>\n",
       "      <td>E09000001</td>\n",
       "      <td>24.0</td>\n",
       "      <td>0.0</td>\n",
       "    </tr>\n",
       "    <tr>\n",
       "      <th>73</th>\n",
       "      <td>2001-02-01</td>\n",
       "      <td>city of london</td>\n",
       "      <td>198137</td>\n",
       "      <td>E09000001</td>\n",
       "      <td>37.0</td>\n",
       "      <td>0.0</td>\n",
       "    </tr>\n",
       "    <tr>\n",
       "      <th>74</th>\n",
       "      <td>2001-03-01</td>\n",
       "      <td>city of london</td>\n",
       "      <td>189033</td>\n",
       "      <td>E09000001</td>\n",
       "      <td>44.0</td>\n",
       "      <td>0.0</td>\n",
       "    </tr>\n",
       "    <tr>\n",
       "      <th>75</th>\n",
       "      <td>2001-04-01</td>\n",
       "      <td>city of london</td>\n",
       "      <td>205494</td>\n",
       "      <td>E09000001</td>\n",
       "      <td>38.0</td>\n",
       "      <td>0.0</td>\n",
       "    </tr>\n",
       "    <tr>\n",
       "      <th>76</th>\n",
       "      <td>2001-05-01</td>\n",
       "      <td>city of london</td>\n",
       "      <td>223459</td>\n",
       "      <td>E09000001</td>\n",
       "      <td>30.0</td>\n",
       "      <td>0.0</td>\n",
       "    </tr>\n",
       "    <tr>\n",
       "      <th>...</th>\n",
       "      <td>...</td>\n",
       "      <td>...</td>\n",
       "      <td>...</td>\n",
       "      <td>...</td>\n",
       "      <td>...</td>\n",
       "      <td>...</td>\n",
       "    </tr>\n",
       "    <tr>\n",
       "      <th>178</th>\n",
       "      <td>2009-11-01</td>\n",
       "      <td>city of london</td>\n",
       "      <td>397909</td>\n",
       "      <td>E09000001</td>\n",
       "      <td>11.0</td>\n",
       "      <td>0.0</td>\n",
       "    </tr>\n",
       "    <tr>\n",
       "      <th>179</th>\n",
       "      <td>2009-12-01</td>\n",
       "      <td>city of london</td>\n",
       "      <td>411955</td>\n",
       "      <td>E09000001</td>\n",
       "      <td>16.0</td>\n",
       "      <td>0.0</td>\n",
       "    </tr>\n",
       "    <tr>\n",
       "      <th>180</th>\n",
       "      <td>2010-01-01</td>\n",
       "      <td>city of london</td>\n",
       "      <td>464436</td>\n",
       "      <td>E09000001</td>\n",
       "      <td>20.0</td>\n",
       "      <td>0.0</td>\n",
       "    </tr>\n",
       "    <tr>\n",
       "      <th>181</th>\n",
       "      <td>2010-02-01</td>\n",
       "      <td>city of london</td>\n",
       "      <td>490525</td>\n",
       "      <td>E09000001</td>\n",
       "      <td>9.0</td>\n",
       "      <td>0.0</td>\n",
       "    </tr>\n",
       "    <tr>\n",
       "      <th>182</th>\n",
       "      <td>2010-03-01</td>\n",
       "      <td>city of london</td>\n",
       "      <td>498241</td>\n",
       "      <td>E09000001</td>\n",
       "      <td>15.0</td>\n",
       "      <td>0.0</td>\n",
       "    </tr>\n",
       "  </tbody>\n",
       "</table>\n",
       "<p>104 rows × 6 columns</p>\n",
       "</div>"
      ],
      "text/plain": [
       "          date            area  average_price       code  houses_sold  \\\n",
       "72  2001-01-01  city of london         284262  E09000001         24.0   \n",
       "73  2001-02-01  city of london         198137  E09000001         37.0   \n",
       "74  2001-03-01  city of london         189033  E09000001         44.0   \n",
       "75  2001-04-01  city of london         205494  E09000001         38.0   \n",
       "76  2001-05-01  city of london         223459  E09000001         30.0   \n",
       "..         ...             ...            ...        ...          ...   \n",
       "178 2009-11-01  city of london         397909  E09000001         11.0   \n",
       "179 2009-12-01  city of london         411955  E09000001         16.0   \n",
       "180 2010-01-01  city of london         464436  E09000001         20.0   \n",
       "181 2010-02-01  city of london         490525  E09000001          9.0   \n",
       "182 2010-03-01  city of london         498241  E09000001         15.0   \n",
       "\n",
       "     no_of_crimes  \n",
       "72            0.0  \n",
       "73            0.0  \n",
       "74            0.0  \n",
       "75            0.0  \n",
       "76            0.0  \n",
       "..            ...  \n",
       "178           0.0  \n",
       "179           0.0  \n",
       "180           0.0  \n",
       "181           0.0  \n",
       "182           0.0  \n",
       "\n",
       "[104 rows x 6 columns]"
      ]
     },
     "execution_count": 21,
     "metadata": {},
     "output_type": "execute_result"
    }
   ],
   "source": [
    "condition = data['no_of_crimes'] == 0\n",
    "\n",
    "data[condition]\n",
    "\n",
    "# data[condition].shape[0]"
   ]
  },
  {
   "cell_type": "markdown",
   "id": "9b59523d",
   "metadata": {},
   "source": [
    "## I) 5. What is the maximum & minimum \"average_price\" per year in England?"
   ]
  },
  {
   "cell_type": "code",
   "execution_count": 26,
   "id": "f9c65225",
   "metadata": {},
   "outputs": [
    {
     "data": {
      "text/plain": [
       "date\n",
       "1995     53901\n",
       "1996     55755\n",
       "1997     61564\n",
       "1998     65743\n",
       "1999     75071\n",
       "2000     84191\n",
       "2001     95992\n",
       "2002    119982\n",
       "2003    138985\n",
       "2004    160330\n",
       "2005    167244\n",
       "2006    182031\n",
       "2007    194764\n",
       "2008    191750\n",
       "2009    174136\n",
       "2010    180807\n",
       "2011    177335\n",
       "2012    180129\n",
       "2013    188544\n",
       "2014    203639\n",
       "2015    219582\n",
       "2016    231922\n",
       "2017    242628\n",
       "2018    248620\n",
       "2019    250410\n",
       "2020    247355\n",
       "Name: average_price, dtype: int64"
      ]
     },
     "execution_count": 26,
     "metadata": {},
     "output_type": "execute_result"
    }
   ],
   "source": [
    "# maximum\n",
    "condition = data['area'] == 'england'\n",
    "\n",
    "data[condition].groupby(data['date'].dt.year)['average_price'].max()"
   ]
  },
  {
   "cell_type": "code",
   "execution_count": 27,
   "id": "f7a27d93",
   "metadata": {},
   "outputs": [
    {
     "data": {
      "text/plain": [
       "date\n",
       "1995     52788\n",
       "1996     52333\n",
       "1997     55789\n",
       "1998     61659\n",
       "1999     65522\n",
       "2000     75219\n",
       "2001     84245\n",
       "2002     96215\n",
       "2003    121610\n",
       "2004    139719\n",
       "2005    158572\n",
       "2006    166544\n",
       "2007    181824\n",
       "2008    165795\n",
       "2009    159340\n",
       "2010    174458\n",
       "2011    173046\n",
       "2012    174161\n",
       "2013    176816\n",
       "2014    188265\n",
       "2015    202856\n",
       "2016    220361\n",
       "2017    231593\n",
       "2018    240428\n",
       "2019    243281\n",
       "2020    247355\n",
       "Name: average_price, dtype: int64"
      ]
     },
     "execution_count": 27,
     "metadata": {},
     "output_type": "execute_result"
    }
   ],
   "source": [
    "# minimum\n",
    "condition = data['area'] == 'england'\n",
    "\n",
    "data[condition].groupby(data['date'].dt.year)['average_price'].min()"
   ]
  },
  {
   "cell_type": "markdown",
   "id": "f766baba",
   "metadata": {},
   "source": [
    "## I) 6. What is the maximum & minimum No. of Crimes recorded per area?"
   ]
  },
  {
   "cell_type": "code",
   "execution_count": 30,
   "id": "81d7dd9d",
   "metadata": {},
   "outputs": [
    {
     "data": {
      "text/plain": [
       "area\n",
       "barking and dagenham      2049.0\n",
       "barnet                    2893.0\n",
       "bexley                    1914.0\n",
       "brent                     2937.0\n",
       "bromley                   2637.0\n",
       "camden                    4558.0\n",
       "city of london              10.0\n",
       "croydon                   3263.0\n",
       "ealing                    3401.0\n",
       "east midlands                NaN\n",
       "east of england              NaN\n",
       "enfield                   2798.0\n",
       "england                      NaN\n",
       "greenwich                 2853.0\n",
       "hackney                   3466.0\n",
       "hammersmith and fulham    2645.0\n",
       "haringey                  3199.0\n",
       "harrow                    1763.0\n",
       "havering                  1956.0\n",
       "hillingdon                2819.0\n",
       "hounslow                  2817.0\n",
       "inner london                 NaN\n",
       "islington                 3384.0\n",
       "kensington and chelsea    2778.0\n",
       "kingston upon thames      1379.0\n",
       "lambeth                   4701.0\n",
       "lewisham                  2813.0\n",
       "london                       NaN\n",
       "merton                    1623.0\n",
       "newham                    3668.0\n",
       "north east                   NaN\n",
       "north west                   NaN\n",
       "outer london                 NaN\n",
       "redbridge                 2560.0\n",
       "richmond upon thames      1551.0\n",
       "south east                   NaN\n",
       "south west                   NaN\n",
       "southwark                 3821.0\n",
       "sutton                    1425.0\n",
       "tower hamlets             3316.0\n",
       "waltham forest            2941.0\n",
       "wandsworth                3051.0\n",
       "west midlands                NaN\n",
       "westminster               7461.0\n",
       "yorks and the humber         NaN\n",
       "Name: no_of_crimes, dtype: float64"
      ]
     },
     "execution_count": 30,
     "metadata": {},
     "output_type": "execute_result"
    }
   ],
   "source": [
    "# maximum\n",
    "data.groupby('area')['no_of_crimes'].max()"
   ]
  },
  {
   "cell_type": "code",
   "execution_count": 31,
   "id": "d566d532",
   "metadata": {},
   "outputs": [
    {
     "data": {
      "text/plain": [
       "area\n",
       "barking and dagenham      1217.0\n",
       "barnet                    1703.0\n",
       "bexley                     860.0\n",
       "brent                     1850.0\n",
       "bromley                   1441.0\n",
       "camden                    2079.0\n",
       "city of london               0.0\n",
       "croydon                   2031.0\n",
       "ealing                    1871.0\n",
       "east midlands                NaN\n",
       "east of england              NaN\n",
       "enfield                   1635.0\n",
       "england                      NaN\n",
       "greenwich                 1513.0\n",
       "hackney                   1870.0\n",
       "hammersmith and fulham    1323.0\n",
       "haringey                  1536.0\n",
       "harrow                     937.0\n",
       "havering                  1130.0\n",
       "hillingdon                1445.0\n",
       "hounslow                  1529.0\n",
       "inner london                 NaN\n",
       "islington                 1871.0\n",
       "kensington and chelsea    1347.0\n",
       "kingston upon thames       692.0\n",
       "lambeth                   2381.0\n",
       "lewisham                  1675.0\n",
       "london                       NaN\n",
       "merton                     819.0\n",
       "newham                    2130.0\n",
       "north east                   NaN\n",
       "north west                   NaN\n",
       "outer london                 NaN\n",
       "redbridge                 1487.0\n",
       "richmond upon thames       700.0\n",
       "south east                   NaN\n",
       "south west                   NaN\n",
       "southwark                 2267.0\n",
       "sutton                     787.0\n",
       "tower hamlets             1646.0\n",
       "waltham forest            1575.0\n",
       "wandsworth                1582.0\n",
       "west midlands                NaN\n",
       "westminster               3504.0\n",
       "yorks and the humber         NaN\n",
       "Name: no_of_crimes, dtype: float64"
      ]
     },
     "execution_count": 31,
     "metadata": {},
     "output_type": "execute_result"
    }
   ],
   "source": [
    "# minimum\n",
    "data.groupby('area')['no_of_crimes'].min()"
   ]
  },
  {
   "cell_type": "markdown",
   "id": "f1e65b46",
   "metadata": {},
   "source": [
    "## I) 7. Show the total count of records of each area, where average price is less than 100.000"
   ]
  },
  {
   "cell_type": "code",
   "execution_count": 34,
   "id": "47c4d95b",
   "metadata": {},
   "outputs": [
    {
     "data": {
      "text/plain": [
       "north east              112\n",
       "north west              111\n",
       "yorks and the humber    110\n",
       "east midlands            96\n",
       "west midlands            94\n",
       "england                  87\n",
       "barking and dagenham     85\n",
       "south west               78\n",
       "east of england          76\n",
       "newham                   72\n",
       "bexley                   64\n",
       "waltham forest           64\n",
       "lewisham                 62\n",
       "havering                 60\n",
       "south east               59\n",
       "greenwich                59\n",
       "croydon                  57\n",
       "enfield                  54\n",
       "sutton                   54\n",
       "hackney                  53\n",
       "redbridge                52\n",
       "southwark                48\n",
       "tower hamlets            47\n",
       "outer london             46\n",
       "hillingdon               44\n",
       "lambeth                  41\n",
       "hounslow                 41\n",
       "brent                    40\n",
       "london                   39\n",
       "merton                   35\n",
       "haringey                 33\n",
       "bromley                  33\n",
       "inner london             31\n",
       "ealing                   31\n",
       "kingston upon thames     30\n",
       "harrow                   30\n",
       "wandsworth               26\n",
       "barnet                   25\n",
       "islington                19\n",
       "city of london           11\n",
       "Name: area, dtype: int64"
      ]
     },
     "execution_count": 34,
     "metadata": {},
     "output_type": "execute_result"
    }
   ],
   "source": [
    "condition = data['average_price'] < 100000\n",
    "\n",
    "data[condition]['area'].value_counts()"
   ]
  },
  {
   "cell_type": "markdown",
   "id": "5b95b158",
   "metadata": {},
   "source": [
    "--------------------------------------------------------------------------------------------------------------------------------"
   ]
  },
  {
   "cell_type": "markdown",
   "id": "3e81cbe7",
   "metadata": {},
   "source": [
    "# The End"
   ]
  }
 ],
 "metadata": {
  "kernelspec": {
   "display_name": "Python 3 (ipykernel)",
   "language": "python",
   "name": "python3"
  },
  "language_info": {
   "codemirror_mode": {
    "name": "ipython",
    "version": 3
   },
   "file_extension": ".py",
   "mimetype": "text/x-python",
   "name": "python",
   "nbconvert_exporter": "python",
   "pygments_lexer": "ipython3",
   "version": "3.9.12"
  }
 },
 "nbformat": 4,
 "nbformat_minor": 5
}
