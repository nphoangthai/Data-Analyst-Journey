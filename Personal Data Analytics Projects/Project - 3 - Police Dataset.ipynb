{
 "cells": [
  {
   "cell_type": "markdown",
   "id": "c66467fc",
   "metadata": {},
   "source": [
    "# Police Dataset"
   ]
  },
  {
   "cell_type": "code",
   "execution_count": 3,
   "id": "10783114",
   "metadata": {},
   "outputs": [],
   "source": [
    "import pandas as pd"
   ]
  },
  {
   "cell_type": "code",
   "execution_count": 34,
   "id": "bb4452c3",
   "metadata": {},
   "outputs": [],
   "source": [
    "data = pd.read_csv('./Data/3. Police Data.csv')"
   ]
  },
  {
   "cell_type": "markdown",
   "id": "de25098f",
   "metadata": {},
   "source": [
    "------------------------------------------------------------------------------------------------------------------------------------"
   ]
  },
  {
   "cell_type": "markdown",
   "id": "d4175944",
   "metadata": {},
   "source": [
    "# Data Cleaning"
   ]
  },
  {
   "cell_type": "markdown",
   "id": "f6de91b0",
   "metadata": {},
   "source": [
    "## I) 1. Remove the column that only contains missing values"
   ]
  },
  {
   "cell_type": "code",
   "execution_count": 35,
   "id": "cad7b932",
   "metadata": {},
   "outputs": [
    {
     "data": {
      "text/plain": [
       "stop_date                 0\n",
       "stop_time                 0\n",
       "country_name          65535\n",
       "driver_gender          4061\n",
       "driver_age_raw         4054\n",
       "driver_age             4307\n",
       "driver_race            4060\n",
       "violation_raw          4060\n",
       "violation              4060\n",
       "search_conducted          0\n",
       "search_type           63056\n",
       "stop_outcome           4060\n",
       "is_arrested            4060\n",
       "stop_duration          4060\n",
       "drugs_related_stop        0\n",
       "dtype: int64"
      ]
     },
     "execution_count": 35,
     "metadata": {},
     "output_type": "execute_result"
    }
   ],
   "source": [
    "data.isnull().sum()"
   ]
  },
  {
   "cell_type": "code",
   "execution_count": 36,
   "id": "9c7ead45",
   "metadata": {},
   "outputs": [],
   "source": [
    "temp = data.isnull().sum().to_dict()\n",
    "n_rows = data.shape[0]\n",
    "\n",
    "for col, val in temp.items():\n",
    "    if val == n_rows:\n",
    "        data.drop(columns = col, inplace = True)"
   ]
  },
  {
   "cell_type": "markdown",
   "id": "8079501d",
   "metadata": {},
   "source": [
    "--------------------------------------------------------------------------------------------------------------------------------------------"
   ]
  },
  {
   "cell_type": "markdown",
   "id": "291c21e9",
   "metadata": {},
   "source": [
    "# Questions"
   ]
  },
  {
   "cell_type": "markdown",
   "id": "fa58dc09",
   "metadata": {},
   "source": [
    "## Q) 1. For Speeding, were Men or Women stopped more often?"
   ]
  },
  {
   "cell_type": "code",
   "execution_count": 37,
   "id": "5aea302a",
   "metadata": {},
   "outputs": [
    {
     "data": {
      "text/plain": [
       "M    25517\n",
       "F    11686\n",
       "Name: driver_gender, dtype: int64"
      ]
     },
     "execution_count": 37,
     "metadata": {},
     "output_type": "execute_result"
    }
   ],
   "source": [
    "condition = data['violation'] == 'Speeding'\n",
    "\n",
    "data[condition]['driver_gender'].value_counts()"
   ]
  },
  {
   "cell_type": "markdown",
   "id": "a2eea184",
   "metadata": {},
   "source": [
    "## Q) 2. Does gender affect who gets searched during a stop?"
   ]
  },
  {
   "cell_type": "code",
   "execution_count": 38,
   "id": "7f5d23b4",
   "metadata": {},
   "outputs": [
    {
     "data": {
      "text/plain": [
       "driver_gender\n",
       "F     366\n",
       "M    2113\n",
       "Name: search_conducted, dtype: int64"
      ]
     },
     "execution_count": 38,
     "metadata": {},
     "output_type": "execute_result"
    }
   ],
   "source": [
    "data.groupby('driver_gender')['search_conducted'].sum()"
   ]
  },
  {
   "cell_type": "markdown",
   "id": "618ac071",
   "metadata": {},
   "source": [
    "## Q) 3. What is the mean stop_duration?"
   ]
  },
  {
   "cell_type": "code",
   "execution_count": 39,
   "id": "6de08113",
   "metadata": {},
   "outputs": [],
   "source": [
    "# mapping\n",
    "data['stop_duration_'] = data['stop_duration'].map({'0-15 Min': 7.5, '16-30 Min': 24, '30+ Min': 45})"
   ]
  },
  {
   "cell_type": "code",
   "execution_count": 41,
   "id": "8db605d0",
   "metadata": {},
   "outputs": [
    {
     "data": {
      "text/plain": [
       "12.187420698181345"
      ]
     },
     "execution_count": 41,
     "metadata": {},
     "output_type": "execute_result"
    }
   ],
   "source": [
    "data['stop_duration_'].mean()"
   ]
  },
  {
   "cell_type": "markdown",
   "id": "9588886e",
   "metadata": {},
   "source": [
    "## Q) 4. Compare the age distributions for each violation"
   ]
  },
  {
   "cell_type": "code",
   "execution_count": 42,
   "id": "f0392cdc",
   "metadata": {},
   "outputs": [
    {
     "data": {
      "text/html": [
       "<div>\n",
       "<style scoped>\n",
       "    .dataframe tbody tr th:only-of-type {\n",
       "        vertical-align: middle;\n",
       "    }\n",
       "\n",
       "    .dataframe tbody tr th {\n",
       "        vertical-align: top;\n",
       "    }\n",
       "\n",
       "    .dataframe thead th {\n",
       "        text-align: right;\n",
       "    }\n",
       "</style>\n",
       "<table border=\"1\" class=\"dataframe\">\n",
       "  <thead>\n",
       "    <tr style=\"text-align: right;\">\n",
       "      <th></th>\n",
       "      <th>count</th>\n",
       "      <th>mean</th>\n",
       "      <th>std</th>\n",
       "      <th>min</th>\n",
       "      <th>25%</th>\n",
       "      <th>50%</th>\n",
       "      <th>75%</th>\n",
       "      <th>max</th>\n",
       "    </tr>\n",
       "    <tr>\n",
       "      <th>violation</th>\n",
       "      <th></th>\n",
       "      <th></th>\n",
       "      <th></th>\n",
       "      <th></th>\n",
       "      <th></th>\n",
       "      <th></th>\n",
       "      <th></th>\n",
       "      <th></th>\n",
       "    </tr>\n",
       "  </thead>\n",
       "  <tbody>\n",
       "    <tr>\n",
       "      <th>Equipment</th>\n",
       "      <td>6507.0</td>\n",
       "      <td>31.682957</td>\n",
       "      <td>11.380671</td>\n",
       "      <td>16.0</td>\n",
       "      <td>23.0</td>\n",
       "      <td>28.0</td>\n",
       "      <td>39.0</td>\n",
       "      <td>81.0</td>\n",
       "    </tr>\n",
       "    <tr>\n",
       "      <th>Moving violation</th>\n",
       "      <td>11876.0</td>\n",
       "      <td>36.736443</td>\n",
       "      <td>13.258350</td>\n",
       "      <td>15.0</td>\n",
       "      <td>25.0</td>\n",
       "      <td>35.0</td>\n",
       "      <td>47.0</td>\n",
       "      <td>86.0</td>\n",
       "    </tr>\n",
       "    <tr>\n",
       "      <th>Other</th>\n",
       "      <td>3477.0</td>\n",
       "      <td>40.362381</td>\n",
       "      <td>12.754423</td>\n",
       "      <td>16.0</td>\n",
       "      <td>30.0</td>\n",
       "      <td>41.0</td>\n",
       "      <td>50.0</td>\n",
       "      <td>86.0</td>\n",
       "    </tr>\n",
       "    <tr>\n",
       "      <th>Registration/plates</th>\n",
       "      <td>2240.0</td>\n",
       "      <td>32.656696</td>\n",
       "      <td>11.150780</td>\n",
       "      <td>16.0</td>\n",
       "      <td>24.0</td>\n",
       "      <td>30.0</td>\n",
       "      <td>40.0</td>\n",
       "      <td>74.0</td>\n",
       "    </tr>\n",
       "    <tr>\n",
       "      <th>Seat belt</th>\n",
       "      <td>3.0</td>\n",
       "      <td>30.333333</td>\n",
       "      <td>10.214369</td>\n",
       "      <td>23.0</td>\n",
       "      <td>24.5</td>\n",
       "      <td>26.0</td>\n",
       "      <td>34.0</td>\n",
       "      <td>42.0</td>\n",
       "    </tr>\n",
       "    <tr>\n",
       "      <th>Speeding</th>\n",
       "      <td>37120.0</td>\n",
       "      <td>33.262581</td>\n",
       "      <td>12.615781</td>\n",
       "      <td>15.0</td>\n",
       "      <td>23.0</td>\n",
       "      <td>30.0</td>\n",
       "      <td>42.0</td>\n",
       "      <td>88.0</td>\n",
       "    </tr>\n",
       "  </tbody>\n",
       "</table>\n",
       "</div>"
      ],
      "text/plain": [
       "                       count       mean        std   min   25%   50%   75%  \\\n",
       "violation                                                                    \n",
       "Equipment             6507.0  31.682957  11.380671  16.0  23.0  28.0  39.0   \n",
       "Moving violation     11876.0  36.736443  13.258350  15.0  25.0  35.0  47.0   \n",
       "Other                 3477.0  40.362381  12.754423  16.0  30.0  41.0  50.0   \n",
       "Registration/plates   2240.0  32.656696  11.150780  16.0  24.0  30.0  40.0   \n",
       "Seat belt                3.0  30.333333  10.214369  23.0  24.5  26.0  34.0   \n",
       "Speeding             37120.0  33.262581  12.615781  15.0  23.0  30.0  42.0   \n",
       "\n",
       "                      max  \n",
       "violation                  \n",
       "Equipment            81.0  \n",
       "Moving violation     86.0  \n",
       "Other                86.0  \n",
       "Registration/plates  74.0  \n",
       "Seat belt            42.0  \n",
       "Speeding             88.0  "
      ]
     },
     "execution_count": 42,
     "metadata": {},
     "output_type": "execute_result"
    }
   ],
   "source": [
    "data.groupby('violation')['driver_age'].describe()"
   ]
  },
  {
   "cell_type": "markdown",
   "id": "ca3bd175",
   "metadata": {},
   "source": [
    "-------------------------------------------------------------------------------------------------------------------------------------------------------------------------------"
   ]
  },
  {
   "cell_type": "markdown",
   "id": "689184b9",
   "metadata": {},
   "source": [
    "# The End"
   ]
  }
 ],
 "metadata": {
  "kernelspec": {
   "display_name": "Python 3 (ipykernel)",
   "language": "python",
   "name": "python3"
  },
  "language_info": {
   "codemirror_mode": {
    "name": "ipython",
    "version": 3
   },
   "file_extension": ".py",
   "mimetype": "text/x-python",
   "name": "python",
   "nbconvert_exporter": "python",
   "pygments_lexer": "ipython3",
   "version": "3.9.12"
  }
 },
 "nbformat": 4,
 "nbformat_minor": 5
}
